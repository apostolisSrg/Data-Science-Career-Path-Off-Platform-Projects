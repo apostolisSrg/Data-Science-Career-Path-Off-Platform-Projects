{
 "cells": [
  {
   "cell_type": "markdown",
   "metadata": {},
   "source": [
    "# This is Jeopardy!"
   ]
  },
  {
   "cell_type": "markdown",
   "metadata": {},
   "source": [
    "#### Overview"
   ]
  },
  {
   "cell_type": "markdown",
   "metadata": {},
   "source": [
    "This project is slightly different than others you have encountered thus far. Instead of a step-by-step tutorial, this project contains a series of open-ended requirements which describe the project you'll be building. There are many possible ways to correctly fulfill all of these requirements, and you should expect to use the internet, Codecademy, and/or other resources when you encounter a problem that you cannot easily solve."
   ]
  },
  {
   "cell_type": "markdown",
   "metadata": {},
   "source": [
    "#### Project Goals"
   ]
  },
  {
   "cell_type": "markdown",
   "metadata": {},
   "source": [
    "You will work to write several functions that investigate a dataset of _Jeopardy!_ questions and answers. Filter the dataset for topics that you're interested in, compute the average difficulty of those questions, and train to become the next Jeopardy champion!"
   ]
  },
  {
   "cell_type": "markdown",
   "metadata": {},
   "source": [
    "## Prerequisites"
   ]
  },
  {
   "cell_type": "markdown",
   "metadata": {},
   "source": [
    "In order to complete this project, you should have completed the Pandas lessons in the <a href=\"https://www.codecademy.com/learn/paths/analyze-data-with-python\">Analyze Data with Python Skill Path</a>. You can also find those lessons in the <a href=\"https://www.codecademy.com/learn/data-processing-pandas\">Data Analysis with Pandas course</a> or the <a href=\"https://www.codecademy.com/learn/paths/data-science/\">Data Scientist Career Path</a>.\n",
    "\n",
    "Finally, the <a href=\"https://www.codecademy.com/learn/practical-data-cleaning\">Practical Data Cleaning</a> course may also be helpful."
   ]
  },
  {
   "cell_type": "markdown",
   "metadata": {},
   "source": [
    "## Project Requirements"
   ]
  },
  {
   "cell_type": "markdown",
   "metadata": {},
   "source": [
    "1. We've provided a csv file containing data about the game show _Jeopardy!_ in a file named `jeopardy.csv`. Load the data into a DataFrame and investigate its contents. Try to print out specific columns.\n",
    "\n",
    "   Note that in order to make this project as \"real-world\" as possible, we haven't modified the data at all - we're giving it to you exactly how we found it. As a result, this data isn't as \"clean\" as the datasets you normally find on Codecademy. More specifically, there's something odd about the column names. After you figure out the problem with the column names, you may want to rename them to make your life easier for the rest of the project.\n",
    "   \n",
    "   In order to display the full contents of a column, we've added this line of code for you:\n",
    "   \n",
    "   ```py\n",
    "   pd.set_option('display.max_colwidth', None)\n",
    "   ```"
   ]
  },
  {
   "cell_type": "code",
   "execution_count": 3,
   "metadata": {},
   "outputs": [
    {
     "name": "stdout",
     "output_type": "stream",
     "text": [
      "   Show Number   Air Date      Round                         Category Value  \\\n",
      "0         4680 2004-12-31  Jeopardy!                          HISTORY  $200   \n",
      "1         4680 2004-12-31  Jeopardy!  ESPN's TOP 10 ALL-TIME ATHLETES  $200   \n",
      "2         4680 2004-12-31  Jeopardy!      EVERYBODY TALKS ABOUT IT...  $200   \n",
      "3         4680 2004-12-31  Jeopardy!                 THE COMPANY LINE  $200   \n",
      "4         4680 2004-12-31  Jeopardy!              EPITAPHS & TRIBUTES  $200   \n",
      "\n",
      "                                            Question      Answer  \n",
      "0  For the last 8 years of his life, Galileo was ...  Copernicus  \n",
      "1  No. 2: 1912 Olympian; football star at Carlisl...  Jim Thorpe  \n",
      "2  The city of Yuma in this state has a record av...     Arizona  \n",
      "3  In 1963, live on \"The Art Linkletter Show\", th...  McDonald's  \n",
      "4  Signer of the Dec. of Indep., framer of the Co...  John Adams  \n"
     ]
    }
   ],
   "source": [
    "import pandas as pd\n",
    "\n",
    "df_jeopardy = pd.read_csv('jeopardy.csv',parse_dates=[1])\n",
    "df_jeopardy.rename(columns={'Show Number':'Show Number',' Air Date': 'Air Date',' Round': 'Round',' Category': 'Category',' Value': 'Value',' Question': 'Question',' Answer': 'Answer'},inplace=True)\n",
    "\n",
    "print(df_jeopardy.head())\n"
   ]
  },
  {
   "cell_type": "markdown",
   "metadata": {},
   "source": [
    "2. Write a function that filters the dataset for questions that contains all of the words in a list of words. For example, when the list `[\"King\", \"England\"]` was passed to our function, the function returned a DataFrame of 49 rows. Every row had the strings `\"King\"` and `\"England\"` somewhere in its `\" Question\"`.\n",
    "\n",
    "   Test your function by printing out the column containing the question of each row of the dataset."
   ]
  },
  {
   "cell_type": "code",
   "execution_count": 3,
   "metadata": {},
   "outputs": [
    {
     "name": "stdout",
     "output_type": "stream",
     "text": [
      "4953      Both England's King George V & FDR put their s...\n",
      "14912     This country's King Louis IV was nicknamed \"Lo...\n",
      "21511     this man and his son ruled England following t...\n",
      "23810     William the Conqueror was crowned King of Engl...\n",
      "27555     This member of the Medici family was the mothe...\n",
      "33294     (Sarah of the Clue Crew delivers the clue from...\n",
      "41148     This French king recognized William of Orange ...\n",
      "41357     England's King Henry VIII had 3 wives named Ca...\n",
      "43122                The father of England's King Edward VI\n",
      "47814     This steak sauce was created for King George I...\n",
      "49994     Elizabeth I's half-brother, he reigned before ...\n",
      "51115     (<a href=\"http://www.j-archive.com/media/2000-...\n",
      "51565     He wrote several anthems, including \"The King ...\n",
      "56600     This city known for its 24-hour auto race was ...\n",
      "57516     Famous (& rather insulting) adjective for Engl...\n",
      "58949     He became King of England in 1399 after forcin...\n",
      "71808     Number of the William who was England's \"Sailo...\n",
      "74235     Barons & churchmen drew up this 1215 document ...\n",
      "77195     He became King of England on June 26, 1483; ju...\n",
      "79457     On Christmas Day 1066, he was crowned King of ...\n",
      "80113     England's King Charles II was known by this \"j...\n",
      "84639     He went from second banana on \"Roseanne\" to to...\n",
      "86412     This country's King Olaf V was born in England...\n",
      "89710     This 11th Century King of England also ruled D...\n",
      "111926    It begins \"John, by the grace of God, King of ...\n",
      "118809    In French this King of England is called Guill...\n",
      "123299    If you want to be crowned King of England, thi...\n",
      "123671                       King Henry VII of England dies\n",
      "125822    Famous nickname of the eldest son of England's...\n",
      "127484    Ethelred the Unready managed to lose most of E...\n",
      "127758    This state was named for the King of England w...\n",
      "129106    King Edward I of England, who fought William W...\n",
      "130208    This \"Sun King\" sniffed, \"England is a little ...\n",
      "137818    The last King William to rule England had this...\n",
      "143434    This Flemish artist painted a unique triple po...\n",
      "150880    During Stanley Baldwin's term as P.M., this Ki...\n",
      "165110    The 1st commoner to rule England, he became lo...\n",
      "165197    The \"Angel of Hadley\" is said to have saved a ...\n",
      "170007    In the 1697 Treaty of Rijswijk, the French rec...\n",
      "174055    This conqueror was crowned King of England on ...\n",
      "175259    His short reign as King of England fell in in ...\n",
      "183462    A capital in the West Indies is named for this...\n",
      "186239    He was King of England from 1189 to 1199 but s...\n",
      "187651    This Bahamian capital took its name from the f...\n",
      "191579    England's King Harold II lost the all-importan...\n",
      "192265    (<a href=\"http://www.j-archive.com/media/2012-...\n",
      "192966                   England's King _____ _____ R. Luce\n",
      "194516    The \"Monty Python\" member who played King Arth...\n",
      "200369    8th C. King Offa built a 170-mile north-south ...\n",
      "Name: Question, dtype: object \n",
      "\n",
      "Length: 49 rows\n"
     ]
    }
   ],
   "source": [
    "def filter_data(df, words):\n",
    "  filtering = lambda x: all(word in x for word in words)\n",
    "  return  df[df[\"Question\"].apply(filtering)]\n",
    "\n",
    "filtered_df = filter_data(df_jeopardy, [\"King\", \"England\"])\n",
    "print(filtered_df['Question'], f\"\\n\\nLength: {filtered_df['Question'].count()} rows\")"
   ]
  },
  {
   "cell_type": "markdown",
   "metadata": {},
   "source": [
    "3. Test your original function with a few different sets of words to try to find some ways your function breaks. Edit your function so it is more robust.\n",
    "\n",
    "   For example, think about capitalization. We probably want to find questions that contain the word `\"King\"` or `\"king\"`.\n",
    "   \n",
    "   You may also want to check to make sure you don't find rows that contain substrings of your given words. For example, our function found a question that didn't contain the word `\"king\"`, however it did contain the word `\"viking\"` &mdash; it found the `\"king\"` inside `\"viking\"`. Note that this also comes with some drawbacks &mdash; you would no longer find questions that contained words like `\"England's\"`."
   ]
  },
  {
   "cell_type": "code",
   "execution_count": 4,
   "metadata": {},
   "outputs": [
    {
     "name": "stdout",
     "output_type": "stream",
     "text": [
      "4953      Both England's King George V & FDR put their s...\n",
      "6337      In retaliation for Viking raids, this \"Unready...\n",
      "9191      This king of England beat the odds to trounce ...\n",
      "11710     This Scotsman, the first Stuart king of Englan...\n",
      "13454     It's the number that followed the last king of...\n",
      "                                ...                        \n",
      "208295    In 1066 this great-great grandson of Rollo mad...\n",
      "208742    Dutch-born king who ruled England jointly with...\n",
      "213870    In 1781 William Herschel discovered Uranus & i...\n",
      "216021    His nickname was \"Bertie\", but he used this na...\n",
      "216789    This kingdom of England grew from 2 settlement...\n",
      "Name: Question, Length: 152, dtype: object\n"
     ]
    }
   ],
   "source": [
    "def filter_data(df, words):\n",
    "    filtering = lambda x: all(word.lower() in x.lower() for word in words)\n",
    "    return df[df[\"Question\"].apply(filtering)]\n",
    "\n",
    "filtered_df = filter_data(df_jeopardy, [\"King\", \"England\"])\n",
    "print(filtered_df['Question'])"
   ]
  },
  {
   "cell_type": "markdown",
   "metadata": {},
   "source": [
    "4. We may want to eventually compute aggregate statistics, like `.mean()` on the `\" Value\"` column. But right now, the values in that column are strings. Convert the`\" Value\"` column to floats. If you'd like to, you can create a new column with float values.\n",
    "\n",
    "   Now that you can filter the dataset of question, use your new column that contains the float values of each question to find the \"difficulty\" of certain topics. For example, what is the average value of questions that contain the word `\"King\"`?\n",
    "   \n",
    "   Make sure to use the dataset that contains the float values as the dataset you use in your filtering function."
   ]
  },
  {
   "cell_type": "code",
   "execution_count": 4,
   "metadata": {},
   "outputs": [
    {
     "name": "stdout",
     "output_type": "stream",
     "text": [
      "739.9884755451067\n"
     ]
    }
   ],
   "source": [
    "# Clean the Value Column\n",
    "df_jeopardy[\"Value\"] = df_jeopardy.Value.apply(lambda value: float(value.replace(\",\", \"\").split('$')[-1] if value != \"None\" else 0))\n",
    "\n",
    "print(df_jeopardy[\"Value\"].mean())"
   ]
  },
  {
   "cell_type": "markdown",
   "metadata": {},
   "source": [
    "5. Write a function that returns the count of unique answers to all of the questions in a dataset. For example, after filtering the entire dataset to only questions containing the word `\"King\"`, we could then find all of the unique answers to those questions. The answer \"Henry VIII\" appeared 55 times and was the most common answer."
   ]
  },
  {
   "cell_type": "code",
   "execution_count": 6,
   "metadata": {},
   "outputs": [
    {
     "name": "stdout",
     "output_type": "stream",
     "text": [
      "William the Conqueror       6\n",
      "Wessex                      3\n",
      "Richard the Lionhearted     3\n",
      "Henry VIII                  3\n",
      "George III                  3\n",
      "                           ..\n",
      "The Magna Carta             1\n",
      "King Hussein                1\n",
      "Charles                     1\n",
      "(Sir Edward) Elgar          1\n",
      "William of Orange roughy    1\n",
      "Name: Answer, Length: 114, dtype: int64\n"
     ]
    }
   ],
   "source": [
    "# A function to find the unique answers of Answer column\n",
    "def unique_answers(filtered_df):\n",
    "    return filtered_df[\"Answer\"].value_counts()\n",
    "filtered_answers = unique_answers(filtered_df)\n",
    "print(filtered_answers)"
   ]
  },
  {
   "cell_type": "markdown",
   "metadata": {},
   "source": [
    "6. Explore from here! This is an incredibly rich dataset, and there are so many interesting things to discover. There are a few columns that we haven't even started looking at yet. Here are some ideas on ways to continue working with this data:\n",
    "\n",
    " * Investigate the ways in which questions change over time by filtering by the date. How many questions from the 90s use the word `\"Computer\"` compared to questions from the 2000s?\n",
    " * Is there a connection between the round and the category? Are you more likely to find certain categories, like `\"Literature\"` in Single Jeopardy or Double Jeopardy?\n",
    " * Build a system to quiz yourself. Grab random questions, and use the <a href=\"https://docs.python.org/3/library/functions.html#input\">input</a> function to get a response from the user. Check to see if that response was right or wrong."
   ]
  },
  {
   "cell_type": "code",
   "execution_count": 7,
   "metadata": {
    "scrolled": true
   },
   "outputs": [
    {
     "name": "stdout",
     "output_type": "stream",
     "text": [
      "Word \"Computer\" occurences in Jeopardy Questions during 90s: 98\n",
      "Word \"Computer\" occurences in Jeopardy Questions during 2000s: 268\n"
     ]
    }
   ],
   "source": [
    "#  Occurences of word \"Computer\" in Questions in 90s vs 200s\n",
    "df_nineties = df_jeopardy.loc[(df_jeopardy[\"Air Date\"] >= '1990-1-1') & (df_jeopardy[\"Air Date\"] <= '1999-12-31')]\n",
    "filtered = filter_data(df_nineties, [\"Computer\"]).reset_index()\n",
    "print(f'Word \"Computer\" occurences in Jeopardy Questions during 90s: {len(filtered.Question)}')\n",
    "\n",
    "df_two_thousands = df_jeopardy.loc[(df_jeopardy[\"Air Date\"] >= '2000-1-1') & (df_jeopardy[\"Air Date\"] <= '2009-12-31')]\n",
    "filtered = filter_data(df_two_thousands, [\"Computer\"]).reset_index()\n",
    "print(f'Word \"Computer\" occurences in Jeopardy Questions during 2000s: {len(filtered.Question)}')\n",
    "\n"
   ]
  },
  {
   "cell_type": "markdown",
   "metadata": {
    "slideshow": {
     "slide_type": "notes"
    }
   },
   "source": [
    "* It makes sense that the word `\"Computer\"` appeared more times on the game show because computers were gaining more and more fame during the 2000s\n"
   ]
  },
  {
   "cell_type": "code",
   "execution_count": 8,
   "metadata": {},
   "outputs": [
    {
     "name": "stdout",
     "output_type": "stream",
     "text": [
      "Round\n",
      "Double Jeopardy!    381\n",
      "Final Jeopardy!      10\n",
      "Jeopardy!           105\n",
      "Name: Category, dtype: int64\n"
     ]
    }
   ],
   "source": [
    "# function that takes category and examines the occurences of the category for each round  \n",
    "def round_category_occurences(df, category):\n",
    "    df_word_occurences = df.loc[df[\"Category\"] == category.upper()]\n",
    "    return df_word_occurences.groupby('Round').Category.count()\n",
    "\n",
    "round_category_occurences = round_category_occurences(df_jeopardy, 'Literature')\n",
    "print(round_category_occurences)\n"
   ]
  },
  {
   "cell_type": "markdown",
   "metadata": {},
   "source": [
    "\n",
    "* Clearly the category `\"LITERATURE\"` is appeared 3 times more in Double Jeopardy! round  than the Jeopardy! round..\n"
   ]
  },
  {
   "cell_type": "code",
   "execution_count": 16,
   "metadata": {},
   "outputs": [
    {
     "name": "stdout",
     "output_type": "stream",
     "text": [
      "\n",
      "+------------------------------+\n",
      "|Welcome to Quiz Game Jeopardy!|\n",
      "+------------------------------+\n",
      "\n",
      "\n",
      "Round = Jeopardy!\n",
      "Question: Losing power in November 1918, Charles I was th...\n",
      "Prize: 800.0$\n",
      "\n",
      "Give your answer here:\n",
      ">\n",
      "I'm sorry, you lost!\n",
      "The correct answer was: the Austro-Hungarian Empire\n"
     ]
    }
   ],
   "source": [
    "# Quiz Game Jeopardy Simulation\n",
    "# Before you run it make sure that df_jeopardy has ran and also the data clean for column \"Value\"\n",
    "\n",
    "import time\n",
    "\n",
    "def game(df):\n",
    "    stop_game = False\n",
    "    lost_game = False\n",
    "    print(f\"\\n+{30 * '-'}+\")\n",
    "    print(\"|Welcome to Quiz Game Jeopardy!|\")\n",
    "    print(f\"+{30 * '-'}+\\n\")\n",
    "    money_won = 0\n",
    "    while True:\n",
    "        df_sample = df.sample()\n",
    "        question = df_sample[\"Question\"].to_string(index=False)\n",
    "        answer = df_sample[\"Answer\"].to_string(index=False)\n",
    "        round = df_sample['Round'].to_string(index=False)\n",
    "        prize = df_sample[\"Value\"].values[0]\n",
    "        print(f\"\\nRound = {round}\")\n",
    "        print(f\"Question: {question}\")\n",
    "        print(f\"Prize: {prize}$\\n\")    \n",
    "        print(\"Give your answer here:\")\n",
    "        user_input = input(\">\").strip().upper()\n",
    "        if answer.lower() == user_input.lower():\n",
    "            print(\"\\nCongratulations! The answer is correct\")\n",
    "            money_won += df_sample[\"Value\"].values[0]\n",
    "            print(f\"Money in your pocket: {money_won}$\")\n",
    "            while True:\n",
    "                print(\"\\nType 'yes' if you wish to continue or 'no' to stop:\")\n",
    "                button = input(\">\").strip().lower()\n",
    "                if button.isalpha():\n",
    "                    if button == 'yes':\n",
    "                        break\n",
    "                    elif button == 'no':\n",
    "                        stop_game = True\n",
    "                        break\n",
    "                    else:\n",
    "                        print(\"\\nType the correct words\")\n",
    "                else:\n",
    "                    print(\"\\nOnly characters please!\")\n",
    "                    continue\n",
    "        else:\n",
    "            lost_game =  True           \n",
    "        if stop_game == True:\n",
    "            print(f\"\\nEnd of Game!\\nYou won: {money_won}$\")\n",
    "            return\n",
    "        if lost_game == True:\n",
    "            print(f\"I'm sorry, you lost!\\nThe correct answer was: {answer}\")\n",
    "            return\n",
    "        print(\"\")\n",
    "        t = 5\n",
    "        for x in range(t, -1, -1):\n",
    "            print(f\"Next Round in {x} seconds\", end=\"\\r\")\n",
    "            time.sleep(1)\n",
    "        print(\"\")\n",
    "\n",
    "game(df_jeopardy)\n"
   ]
  },
  {
   "cell_type": "code",
   "execution_count": null,
   "metadata": {},
   "outputs": [],
   "source": []
  }
 ],
 "metadata": {
  "kernelspec": {
   "display_name": "Python 3 (ipykernel)",
   "language": "python",
   "name": "python3"
  },
  "language_info": {
   "codemirror_mode": {
    "name": "ipython",
    "version": 3
   },
   "file_extension": ".py",
   "mimetype": "text/x-python",
   "name": "python",
   "nbconvert_exporter": "python",
   "pygments_lexer": "ipython3",
   "version": "3.9.13"
  }
 },
 "nbformat": 4,
 "nbformat_minor": 2
}
