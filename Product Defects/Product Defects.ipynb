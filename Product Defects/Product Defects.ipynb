{
 "cells": [
  {
   "cell_type": "markdown",
   "id": "4b2cd154",
   "metadata": {},
   "source": [
    "# Product Defects"
   ]
  },
  {
   "cell_type": "markdown",
   "id": "9fb46377",
   "metadata": {},
   "source": [
    "You are in charge of monitoring the number of products from a specific factory. You've been told that the number of defects on a given day follows the Poisson distribution with the rate parameter (lambda) equal to 7. You're new here, so you want to get a feel for what it means to follow the Poisson(7) distribution. You remember that the Poisson distribution is special because the rate parameter represents the expected value of the distribution, so in this case, the expected value of the Poisson(7) distribution is 7 defects per day.\n",
    "\n",
    "You will investigate certain attributes of the Poisson(7) distribution to get an intuition for how many defective objects you should expect to see in a given amount of time. You will also practice and apply what you know about the Poisson distribution on a practice data set that you will simulate yourself."
   ]
  },
  {
   "cell_type": "markdown",
   "id": "24b7687a",
   "metadata": {},
   "source": [
    "## Distribution in Theory"
   ]
  },
  {
   "cell_type": "markdown",
   "id": "6507ea83",
   "metadata": {},
   "source": [
    "1. Create a variable called `lam` that represents the rate parameter of our distribution."
   ]
  },
  {
   "cell_type": "code",
   "execution_count": 1,
   "id": "5004fed3",
   "metadata": {},
   "outputs": [],
   "source": [
    "import scipy.stats as stats\n",
    "import numpy as np\n",
    "\n",
    "## Task 1:\n",
    "lam = 7"
   ]
  },
  {
   "cell_type": "markdown",
   "id": "74c409d6",
   "metadata": {},
   "source": [
    "2. You know that the rate parameter of a Poisson distribution is equal to the expected value. So in our factory, the rate parameter would equal the expected number of defects on a given day. You are curious about how often we might observe the exact expected number of defects.\n",
    "\n",
    "   Calculate and print the probability of observing exactly `lam` defects on a given day."
   ]
  },
  {
   "cell_type": "code",
   "execution_count": 2,
   "id": "9460b5b8",
   "metadata": {},
   "outputs": [
    {
     "data": {
      "text/plain": [
       "0.14900277967433773"
      ]
     },
     "execution_count": 2,
     "metadata": {},
     "output_type": "execute_result"
    }
   ],
   "source": [
    "## Task 2:\n",
    "prop_exact_lam_defects = stats.poisson.pmf(7, 7)\n",
    "prop_exact_lam_defects"
   ]
  },
  {
   "cell_type": "markdown",
   "id": "2f2e2d1f",
   "metadata": {},
   "source": [
    "3. Our boss said that having 4 or fewer defects on a given day is an exceptionally good day. You are curious about how often that might happen.\n",
    "\n",
    "   Calculate and print the probability of having one of those days."
   ]
  },
  {
   "cell_type": "code",
   "execution_count": 3,
   "id": "f4ebb772",
   "metadata": {},
   "outputs": [
    {
     "data": {
      "text/plain": [
       "0.17299160788207146"
      ]
     },
     "execution_count": 3,
     "metadata": {},
     "output_type": "execute_result"
    }
   ],
   "source": [
    "## Task 3:\n",
    "four_or_fewer_defects = stats.poisson.cdf(4, 7)\n",
    "four_or_fewer_defects"
   ]
  },
  {
   "cell_type": "markdown",
   "id": "53d28c8f",
   "metadata": {},
   "source": [
    "4. On the other hand, our boss said that having more than 9 defects on a given day is considered a bad day.\n",
    "\n",
    "   Calculate and print the probability of having one of these bad days."
   ]
  },
  {
   "cell_type": "code",
   "execution_count": 4,
   "id": "a2e52583",
   "metadata": {},
   "outputs": [
    {
     "data": {
      "text/plain": [
       "0.16950406276132668"
      ]
     },
     "execution_count": 4,
     "metadata": {},
     "output_type": "execute_result"
    }
   ],
   "source": [
    "## Task 4:\n",
    "nine_or_more = 1 - stats.poisson.cdf(9, 7)\n",
    "nine_or_more"
   ]
  },
  {
   "cell_type": "markdown",
   "id": "51b70b96",
   "metadata": {},
   "source": [
    "## Distribution in Practice"
   ]
  },
  {
   "cell_type": "markdown",
   "id": "64c0a33e",
   "metadata": {},
   "source": [
    "5. You've familiarized yourself a little bit about how the Poisson distribution works in theory by calculating different probabilities. But let's look at what this might look like in practice.\n",
    "\n",
    "   Create a variable called `year_defects` that has 365 random values from the Poisson distribution."
   ]
  },
  {
   "cell_type": "code",
   "execution_count": 22,
   "id": "ca2113e6",
   "metadata": {},
   "outputs": [
    {
     "data": {
      "text/plain": [
       "array([ 5,  7, 11, 11, 10,  9,  8,  6,  9,  5,  9, 10,  9,  8,  4, 10, 10,\n",
       "        4,  8,  6,  8,  8,  7, 12, 10,  9,  6, 11,  6, 10,  7,  2,  4,  6,\n",
       "        7,  5,  6,  2,  3,  5, 17, 10, 10,  6,  3,  7,  6,  9,  2,  7,  3,\n",
       "        8,  8,  5,  8,  9,  5,  4,  5,  3, 11,  5,  2,  6,  7, 10, 10, 11,\n",
       "        3,  5,  4,  3,  7,  6,  7,  6, 11,  6,  9,  8,  6,  8,  5,  5,  5,\n",
       "        2,  6,  7, 10,  6,  6, 10,  3,  6,  7,  7,  8, 11, 10,  3,  8,  6,\n",
       "        6,  7,  9,  5,  6, 10, 10,  6, 12,  9,  3,  3,  7,  4,  3,  8,  7,\n",
       "        8,  2,  8,  5,  7,  6,  9,  7,  6,  5, 11,  5,  4,  6,  9,  9,  6,\n",
       "        9,  8,  7,  9,  6,  5,  6,  7,  5,  2,  5,  6,  6,  4, 12,  5,  8,\n",
       "       10,  9,  7, 12,  2,  4, 10,  5,  9,  2,  4,  6,  8,  9,  7,  9, 11,\n",
       "        3, 11,  7,  7,  5, 10,  8,  9,  9,  9,  4,  9,  6, 11,  5,  5,  2,\n",
       "       10,  7,  7,  5,  4,  6,  2,  6,  3,  9,  9,  5,  3,  8, 12, 10,  5,\n",
       "       11,  7,  6, 14, 14, 12,  9,  7,  6,  7,  8,  9, 10,  7,  8,  6,  8,\n",
       "        8, 11,  5,  7,  4,  6,  6, 11,  4, 12,  9,  6,  4,  6,  8,  8,  8,\n",
       "        6,  7,  9,  5,  2,  5,  8,  6,  5,  8,  4,  8,  6,  6,  3,  7,  5,\n",
       "        9,  6,  4,  6,  9,  7,  7,  8,  8, 10,  5,  6,  9,  2,  8,  7, 11,\n",
       "        5,  9,  7,  4,  5,  6,  6,  8,  8, 11,  7,  7,  8,  8,  6,  6, 11,\n",
       "        6,  8,  9,  3,  7,  7,  6, 11,  8,  8,  9,  9,  9, 10,  7,  7, 16,\n",
       "        8,  6,  8,  9, 10, 12,  2,  8,  8,  7,  5,  7,  9,  2,  7,  8,  7,\n",
       "        5,  8, 10,  3,  9,  7,  8,  3,  4,  7,  6, 13,  7,  9,  7,  8,  7,\n",
       "        5,  6,  9,  2,  6,  5,  5,  9,  6,  6,  6,  8, 13, 14,  8,  5,  8,\n",
       "        4,  7,  7,  7,  7,  5,  4,  6], dtype=int64)"
      ]
     },
     "execution_count": 22,
     "metadata": {},
     "output_type": "execute_result"
    }
   ],
   "source": [
    "## Task 5:\n",
    "year_defects = stats.poisson.rvs(7, size=365)\n",
    "year_defects"
   ]
  },
  {
   "cell_type": "markdown",
   "id": "d7f3dce8",
   "metadata": {},
   "source": [
    "6. Let's take a look at our new dataset. Print the first 20 values in this dataset."
   ]
  },
  {
   "cell_type": "code",
   "execution_count": 23,
   "id": "b1d5f0c1",
   "metadata": {},
   "outputs": [
    {
     "name": "stdout",
     "output_type": "stream",
     "text": [
      "5\n",
      "7\n",
      "11\n",
      "11\n",
      "10\n",
      "9\n",
      "8\n",
      "6\n",
      "9\n",
      "5\n",
      "9\n",
      "10\n",
      "9\n",
      "8\n",
      "4\n",
      "10\n",
      "10\n",
      "4\n",
      "8\n",
      "6\n",
      "8\n"
     ]
    }
   ],
   "source": [
    "## Task 6:\n",
    "for i in range(0, 21):\n",
    "    print(year_defects[i])"
   ]
  },
  {
   "cell_type": "markdown",
   "id": "eedc358b",
   "metadata": {},
   "source": [
    "7. If we expect 7 defects on a given day, what is the total number of defects we would expect over 365 days?\n",
    "\n",
    "   Calculate and print this value to the output terminal."
   ]
  },
  {
   "cell_type": "code",
   "execution_count": 24,
   "id": "75d2f0e0",
   "metadata": {},
   "outputs": [
    {
     "name": "stdout",
     "output_type": "stream",
     "text": [
      "2555\n"
     ]
    }
   ],
   "source": [
    "## Task 7:\n",
    "print(lam*365)"
   ]
  },
  {
   "cell_type": "markdown",
   "id": "ad96cdf6",
   "metadata": {},
   "source": [
    "8. Calculate and print the total sum of the dataset `year_defects`. How does this compare to the total number of defects we expected over 365 days?"
   ]
  },
  {
   "cell_type": "code",
   "execution_count": 26,
   "id": "da304786",
   "metadata": {},
   "outputs": [
    {
     "name": "stdout",
     "output_type": "stream",
     "text": [
      "2571\n"
     ]
    }
   ],
   "source": [
    "## Task 8:\n",
    "print(year_defects.sum())"
   ]
  },
  {
   "cell_type": "markdown",
   "id": "aefa9e09",
   "metadata": {},
   "source": [
    "9. Calculate and print the average number of defects per day from our simulated dataset.\n",
    "\n",
    "   How does this compare to the expected average number of defects each day that we know from the given rate parameter of the Poisson distribution?"
   ]
  },
  {
   "cell_type": "code",
   "execution_count": 35,
   "id": "fadb4a4f",
   "metadata": {},
   "outputs": [
    {
     "name": "stdout",
     "output_type": "stream",
     "text": [
      "7\n",
      "7.043835616438356\n"
     ]
    }
   ],
   "source": [
    "## Task 9:\n",
    "print(lam)\n",
    "print(np.mean(year_defects))"
   ]
  },
  {
   "cell_type": "markdown",
   "id": "28e9bf59",
   "metadata": {},
   "source": [
    "* It is clear that the more samples we get the more the mean property converges to its expected value. For example if we take samples for 1000 days the mean of the sample dataset would be more closer to its real (lam) value"
   ]
  },
  {
   "cell_type": "markdown",
   "id": "31308a48",
   "metadata": {},
   "source": [
    "10. You're worried about what the highest amount of defects in a single day might be because that would be a hectic day.\n",
    "\n",
    "    Print the maximum value of `year_defects`."
   ]
  },
  {
   "cell_type": "code",
   "execution_count": 33,
   "id": "18feb435",
   "metadata": {},
   "outputs": [
    {
     "name": "stdout",
     "output_type": "stream",
     "text": [
      "17\n"
     ]
    }
   ],
   "source": [
    "## Task 10:\n",
    "max_value = year_defects.max()\n",
    "print(max_value)"
   ]
  },
  {
   "cell_type": "markdown",
   "id": "64b6a84a",
   "metadata": {},
   "source": [
    "11. Wow, it would probably be super busy if there were that many defects on a single day. Hopefully, it is a rare event!\n",
    "\n",
    "    Calculate and print the probability of observing that maximum value or more from the Poisson(7) distribution."
   ]
  },
  {
   "cell_type": "code",
   "execution_count": 34,
   "id": "a63b1329",
   "metadata": {},
   "outputs": [
    {
     "data": {
      "text/plain": [
       "0.00036178431660227606"
      ]
     },
     "execution_count": 34,
     "metadata": {},
     "output_type": "execute_result"
    }
   ],
   "source": [
    "## Task 11:\n",
    "max_or_more = 1 - stats.poisson.cdf(max_value, 7)\n",
    "max_or_more"
   ]
  },
  {
   "cell_type": "markdown",
   "id": "b45f0bab",
   "metadata": {},
   "source": [
    "## Extra"
   ]
  },
  {
   "cell_type": "markdown",
   "id": "5060f0ec",
   "metadata": {},
   "source": [
    "12. Congratulations! At this point, you have now explored the Poisson distribution and even worked with some simulated data. We have a couple of extra tasks if you would like an extra challenge. Feel free to try them out or move onto the next topic!\n",
    "\n",
    "    Let's say we want to know how many defects in a given day would put us in the 90th percentile of the Poisson(7) distribution. One way we could calculate this is by using the following method:\n",
    "    \n",
    "    ```py\n",
    "    stats.poisson.ppf(percentile, lambda)\n",
    "    ```\n",
    "    \n",
    "    `percentile` is equal to the desired percentile (a decimal between 0 and 1), and `lambda` is the lambda parameter of the Poisson distribution. This function is essentially the inverse of the CDF.\n",
    "    \n",
    "    Use this method to calculate and print the number of defects that would put us in the 90th percentile for a given day. In other words, on 90% of days, we will observe fewer defects than this number."
   ]
  },
  {
   "cell_type": "code",
   "execution_count": 53,
   "id": "e6156c3e",
   "metadata": {},
   "outputs": [
    {
     "name": "stdout",
     "output_type": "stream",
     "text": [
      "10.0\n"
     ]
    }
   ],
   "source": [
    "## Task 12:\n",
    "print(stats.poisson.ppf(0.9, 7))"
   ]
  },
  {
   "cell_type": "markdown",
   "id": "0d86d9d0",
   "metadata": {},
   "source": [
    "13. Now let's see what proportion of our simulated dataset `year_defects` is greater than or equal to the number we calculated in the previous step.\n",
    "\n",
    "    By definition of a percentile, we would expect 1 - .90, or about 10% of days to be in this range.\n",
    "    \n",
    "    To calculate this:\n",
    "    \n",
    "     1) Count the number of values in the dataset that are greater than or equal to the 90th percentile value.\n",
    "     \n",
    "     2) Divide this number by the length of the dataset."
   ]
  },
  {
   "cell_type": "code",
   "execution_count": 54,
   "id": "c80c6e6a",
   "metadata": {},
   "outputs": [
    {
     "name": "stdout",
     "output_type": "stream",
     "text": [
      "0.09041095890410959\n"
     ]
    }
   ],
   "source": [
    "## Task 13:\n",
    "values_count = np.sum(year_defects > stats.poisson.ppf(0.9,lam))\n",
    "print(values_count / len(year_defects))\n"
   ]
  }
 ],
 "metadata": {
  "kernelspec": {
   "display_name": "Python 3 (ipykernel)",
   "language": "python",
   "name": "python3"
  },
  "language_info": {
   "codemirror_mode": {
    "name": "ipython",
    "version": 3
   },
   "file_extension": ".py",
   "mimetype": "text/x-python",
   "name": "python",
   "nbconvert_exporter": "python",
   "pygments_lexer": "ipython3",
   "version": "3.9.13"
  }
 },
 "nbformat": 4,
 "nbformat_minor": 5
}
